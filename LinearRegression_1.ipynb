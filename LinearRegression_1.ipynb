{
  "nbformat": 4,
  "nbformat_minor": 0,
  "metadata": {
    "colab": {
      "provenance": [],
      "mount_file_id": "1ot-X120KjuDlXg7fw1yJw17UyooSAU5s",
      "authorship_tag": "ABX9TyMjIhvuTMr29YcWN3m8oSqz",
      "include_colab_link": true
    },
    "kernelspec": {
      "name": "python3",
      "display_name": "Python 3"
    },
    "language_info": {
      "name": "python"
    }
  },
  "cells": [
    {
      "cell_type": "markdown",
      "metadata": {
        "id": "view-in-github",
        "colab_type": "text"
      },
      "source": [
        "<a href=\"https://colab.research.google.com/github/AngelGonzs/ColabML/blob/main/LinearRegression_1.ipynb\" target=\"_parent\"><img src=\"https://colab.research.google.com/assets/colab-badge.svg\" alt=\"Open In Colab\"/></a>"
      ]
    },
    {
      "cell_type": "code",
      "execution_count": null,
      "metadata": {
        "id": "w9m1AjP4tzKP"
      },
      "outputs": [],
      "source": [
        "import pandas as pd\n",
        "import csv \n",
        "import matplotlib.pyplot as plt\n",
        "import numpy as np"
      ]
    },
    {
      "cell_type": "code",
      "source": [
        "path = '/content/drive/MyDrive/Datasets/Linear Regression - Sheet1.csv'\n",
        "\n",
        "df = pd.read_csv(path)\n",
        "df.head()\n",
        "\n",
        "X = df['X'].values\n",
        "Y = df['Y'].values\n",
        "\n"
      ],
      "metadata": {
        "id": "3Lw-DCKeviSg"
      },
      "execution_count": null,
      "outputs": []
    },
    {
      "cell_type": "markdown",
      "source": [
        "Now we will try to add these points into our MatPlot"
      ],
      "metadata": {
        "id": "kw0o71VQBNd7"
      }
    },
    {
      "cell_type": "code",
      "source": [
        "plt.scatter(X,Y, color='pink')\n",
        "plt.xlabel('X')\n",
        "plt.ylabel('Y')\n",
        "plt.show()\n",
        "\n"
      ],
      "metadata": {
        "colab": {
          "base_uri": "https://localhost:8080/",
          "height": 279
        },
        "id": "iEnMdJ6zBQ8a",
        "outputId": "9d2b2d12-20f8-47f4-a17e-a311a40fcd8e"
      },
      "execution_count": null,
      "outputs": [
        {
          "output_type": "display_data",
          "data": {
            "text/plain": [
              "<Figure size 432x288 with 1 Axes>"
            ],
            "image/png": "[encoded data removed]"
          },
          "metadata": {
            "needs_background": "light"
          }
        }
      ]
    },
    {
      "cell_type": "markdown",
      "source": [
        "# Manual Function of code \n",
        "\n",
        "We will first commence with our **Hypothesis Function** which as we can see\n",
        "results to be:\n",
        "\n",
        "\n",
        "\n",
        "```\n",
        "y = 1 + 0.67*x\n",
        "```\n",
        "\n"
      ],
      "metadata": {
        "id": "JiTFqJIi79v3"
      }
    },
    {
      "cell_type": "code",
      "source": [
        "m = len(X)\n",
        "\n",
        "plt.scatter(X,Y, color='pink')\n",
        "\n",
        "x = np.linspace(1,300,100)\n",
        "\n",
        "y = 1 + 0.67*x\n",
        "\n",
        "plt.plot(x,y,'b')\n",
        "\n",
        "plt.show()"
      ],
      "metadata": {
        "colab": {
          "base_uri": "https://localhost:8080/",
          "height": 265
        },
        "id": "hqjh9FWQ79Uq",
        "outputId": "3125b04e-fda7-4bd6-da02-7e92573d4cfa"
      },
      "execution_count": null,
      "outputs": [
        {
          "output_type": "display_data",
          "data": {
            "text/plain": [
              "<Figure size 432x288 with 1 Axes>"
            ],
            "image/png": "[encoded data removed]"
          },
          "metadata": {
            "needs_background": "light"
          }
        }
      ]
    },
    {
      "cell_type": "markdown",
      "source": [
        "Now we will proceed with our **Minimize Function** too see how accurate our hypothesis is. This function is the following:\n",
        "\n",
        "\n",
        "\n",
        "\n",
        "> ***m = 1/m sum( hypothesis - y[i])^2***\n",
        "\n"
      ],
      "metadata": {
        "id": "py4f9ZBh95jR"
      }
    },
    {
      "cell_type": "code",
      "source": [
        "total = 0\n",
        "\n",
        "for i in range(m-4):\n",
        "\n",
        "\n",
        "  # print((1 + 0.67*X[i]) , Y[i])\n",
        "  total += ((1.4 + 0.679*X[i]) - Y[i])**2\n",
        "\n",
        "minimize = total/m\n",
        "print(minimize)"
      ],
      "metadata": {
        "colab": {
          "base_uri": "https://localhost:8080/"
        },
        "id": "15ywo65o-bbm",
        "outputId": "35757681-05b8-4985-8a38-2254bdbf9b75"
      },
      "execution_count": null,
      "outputs": [
        {
          "output_type": "stream",
          "name": "stdout",
          "text": [
            "1.0958781533095223\n"
          ]
        }
      ]
    },
    {
      "cell_type": "markdown",
      "source": [
        "With the exception of the last couple of samples, which we can see have a drastic drop off in our plot, the minimize function gathers an error of around 1.08% which is really good.\n",
        "\n",
        "---\n",
        "\n",
        "Next we will be working with our  **Cost Function**"
      ],
      "metadata": {
        "id": "mnwGpKBS-g-_"
      }
    },
    {
      "cell_type": "code",
      "source": [
        "J = minimize/2\n",
        "print(J)"
      ],
      "metadata": {
        "colab": {
          "base_uri": "https://localhost:8080/"
        },
        "id": "rXc1mkze-xd1",
        "outputId": "cb5f8e66-fa93-4143-8102-0ab320a126a4"
      },
      "execution_count": null,
      "outputs": [
        {
          "output_type": "stream",
          "name": "stdout",
          "text": [
            "0.5479390766547612\n"
          ]
        }
      ]
    },
    {
      "cell_type": "markdown",
      "source": [
        "# Linear Regression Time\n"
      ],
      "metadata": {
        "id": "UsDgWmP8_4su"
      }
    },
    {
      "cell_type": "code",
      "source": [
        "from sklearn.linear_model import LinearRegression\n",
        "from sklearn.model_selection import train_test_split\n",
        "\n",
        "X = X.reshape(-1, 1)"
      ],
      "metadata": {
        "id": "XW1yAgXM_-wu"
      },
      "execution_count": null,
      "outputs": []
    },
    {
      "cell_type": "code",
      "source": [
        "X_train, X_test, y_train, y_test = train_test_split(X, Y, train_size=.8, test_size=.2, random_state=100)"
      ],
      "metadata": {
        "id": "bA9o--K3AF5F"
      },
      "execution_count": null,
      "outputs": []
    },
    {
      "cell_type": "code",
      "source": [
        "plt.scatter(X_train, y_train, color='red')\n",
        "plt.xlabel('X')\n",
        "plt.ylabel('Y')\n",
        "plt.show()"
      ],
      "metadata": {
        "colab": {
          "base_uri": "https://localhost:8080/",
          "height": 279
        },
        "id": "Jl16LflDARkH",
        "outputId": "0bd8b52b-25b2-4ac6-dce1-467954bb7cdd"
      },
      "execution_count": null,
      "outputs": [
        {
          "output_type": "display_data",
          "data": {
            "text/plain": [
              "<Figure size 432x288 with 1 Axes>"
            ],
            "image/png": "[encoded data removed]"
          },
          "metadata": {
            "needs_background": "light"
          }
        }
      ]
    },
    {
      "cell_type": "markdown",
      "source": [
        "Now we apply the Linear Regression function from sklearn"
      ],
      "metadata": {
        "id": "tjW7eYkOAd-t"
      }
    },
    {
      "cell_type": "code",
      "source": [
        "lr = LinearRegression()\n",
        "lr.fit(X_train, y_train)\n",
        "y_predict = lr.predict(X_test)\n",
        "y_predict"
      ],
      "metadata": {
        "colab": {
          "base_uri": "https://localhost:8080/"
        },
        "id": "YAaDdTLhAhzQ",
        "outputId": "3fc71f19-2e93-4287-8302-74cebc17e12c"
      },
      "execution_count": null,
      "outputs": [
        {
          "output_type": "execute_result",
          "data": {
            "text/plain": [
              "array([147.8120306 ,  95.1919227 , 144.00816738, 134.49850932,\n",
              "       164.9294151 ,  92.02203668,  88.21817346,  62.85908531,\n",
              "        24.18647589, 189.65452604, 107.87146677,  11.50693182,\n",
              "       137.66839534, 131.96260051, 109.77339838,  18.48068106,\n",
              "       185.85066282, 145.27612178,  45.10772361, 195.36032087,\n",
              "       133.86453212, 115.47919321, 101.53169473, 105.96953516,\n",
              "       140.20430416, 112.3093072 , 133.23055492, 132.59657771,\n",
              "        78.0745382 , 114.21123881, 153.51782543, 113.5772616 ,\n",
              "        16.57874945, 147.1780534 , 152.88384823,  97.09385431,\n",
              "       172.53714154,  76.80658379,  36.23204276, 120.55101084,\n",
              "        54.61738167, 128.15873729,  42.5718148 ,  85.68226464,\n",
              "        77.440561  , 188.38657163, 130.6946461 ,  13.40886343,\n",
              "        86.31624185, 164.29543789,  47.64363243, 183.314754  ,\n",
              "         7.7030686 ,  21.65056708, 154.78577984,  72.36874337,\n",
              "       119.28305644,  19.11465826, 142.10623577,  33.06215674])"
            ]
          },
          "metadata": {},
          "execution_count": 56
        }
      ]
    },
    {
      "cell_type": "code",
      "source": [
        "lr.score(X_train, y_train) * 100"
      ],
      "metadata": {
        "colab": {
          "base_uri": "https://localhost:8080/"
        },
        "id": "8F-0PRIaA7lE",
        "outputId": "fd978cd5-01ff-4bfc-f5f2-b789ac44b972"
      },
      "execution_count": null,
      "outputs": [
        {
          "output_type": "execute_result",
          "data": {
            "text/plain": [
              "90.46208804321458"
            ]
          },
          "metadata": {},
          "execution_count": 57
        }
      ]
    },
    {
      "cell_type": "code",
      "source": [
        "plt.scatter(X_train, y_train, color='gray')\n",
        "plt.plot(X_test, y_predict, 'r')\n",
        "plt.xlabel('X')\n",
        "plt.ylabel('Y')\n",
        "plt.show()"
      ],
      "metadata": {
        "colab": {
          "base_uri": "https://localhost:8080/",
          "height": 279
        },
        "id": "M_G2Zh9aA-73",
        "outputId": "cc848984-5b86-408b-bafa-3bceb6338c9b"
      },
      "execution_count": null,
      "outputs": [
        {
          "output_type": "display_data",
          "data": {
            "text/plain": [
              "<Figure size 432x288 with 1 Axes>"
            ],
            "image/png": "[encoded data removed]"
          },
          "metadata": {
            "needs_background": "light"
          }
        }
      ]
    },
    {
      "cell_type": "markdown",
      "source": [
        "Red line are our results from the Linear Regression algorithm"
      ],
      "metadata": {
        "id": "-b_wJ-02BHNn"
      }
    }
  ]
}